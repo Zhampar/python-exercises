{
  "cells": [
    {
      "cell_type": "markdown",
      "metadata": {
        "id": "thgO68_HZ0Aa"
      },
      "source": [
        "# Introduction"
      ]
    },
    {
      "cell_type": "markdown",
      "metadata": {
        "id": "PIh3i0c_Z_yP"
      },
      "source": [
        "This section introduces the Python Programming uisng Colab. Follow the instructions and complete the exercises."
      ]
    },
    {
      "cell_type": "markdown",
      "metadata": {
        "id": "gCw6SfeFZ78l"
      },
      "source": [
        "# Ex 1 : Check Version"
      ]
    },
    {
      "cell_type": "markdown",
      "metadata": {
        "id": "6Vm-27iLabjm"
      },
      "source": [
        "Using the below cell, Import the required library and check the version of the python in your environment."
      ]
    },
    {
      "cell_type": "code",
      "execution_count": 2,
      "metadata": {
        "id": "PJDYHB4AXVdc",
        "outputId": "8e926312-c64a-4a58-8ad7-5e0708a4e129",
        "colab": {
          "base_uri": "https://localhost:8080/"
        }
      },
      "outputs": [
        {
          "output_type": "stream",
          "name": "stdout",
          "text": [
            "Python version:\n",
            "3.11.12 (main, Apr  9 2025, 08:55:54) [GCC 11.4.0]\n"
          ]
        }
      ],
      "source": [
        "import sys\n",
        "print(\"Python version:\")\n",
        "print(sys.version)"
      ]
    },
    {
      "cell_type": "markdown",
      "metadata": {
        "id": "5qTEiwGlawf5"
      },
      "source": [
        "# Ex2 : Convert Currency."
      ]
    },
    {
      "cell_type": "markdown",
      "metadata": {
        "id": "XH8K1p0ypVCg"
      },
      "source": [
        "Write a program that asks the user for the amount in usd and converts it to British pounds. The exchange rate is from usd to BP is given as 0.82"
      ]
    },
    {
      "cell_type": "code",
      "execution_count": 4,
      "metadata": {
        "id": "x9xQXOnRa0MS",
        "outputId": "3d8aecbe-d6d2-4a15-a106-89564f0125ee",
        "colab": {
          "base_uri": "https://localhost:8080/"
        }
      },
      "outputs": [
        {
          "output_type": "error",
          "ename": "SyntaxError",
          "evalue": "invalid syntax (<ipython-input-4-13d58ec52fab>, line 4)",
          "traceback": [
            "\u001b[0;36m  File \u001b[0;32m\"<ipython-input-4-13d58ec52fab>\"\u001b[0;36m, line \u001b[0;32m4\u001b[0m\n\u001b[0;31m    Enter the amount in USD: 100\u001b[0m\n\u001b[0m          ^\u001b[0m\n\u001b[0;31mSyntaxError\u001b[0m\u001b[0;31m:\u001b[0m invalid syntax\n"
          ]
        }
      ],
      "source": [
        "usd_amount = input (\"Enter the amount in USD: \")\n",
        "bp_amount = int(usd_amount) *0.82\n",
        "print(\"{} usd is equivalent to {:.2f} british pound\".format(usd_amount, bp_amount))\n",
        "Enter the amount in USD: 100\n",
        "100.0 USD is equivalent to 82.00 British Pounds."
      ]
    },
    {
      "cell_type": "markdown",
      "metadata": {
        "id": "ePfECwUIpli4"
      },
      "source": [
        "while True:\n",
        "    temp = input(\"Enter the temperature in Fahrenheit: \")\n",
        "    try:\n",
        "        temp_F = float(temp)\n",
        "        temp_C = (temp_F - 32) * 5 / 9\n",
        "        print(f\"{temp_F} Fahrenheit is equivalent to {temp_C:.2f} Celsius.\")\n",
        "        break\n",
        "    except ValueError:\n",
        "        print(\"Invalid input. Please enter a valid number!\")# Ex 3: Temperature Converter"
      ]
    },
    {
      "cell_type": "markdown",
      "metadata": {
        "id": "a2kNRO9Vp7Qz"
      },
      "source": [
        "# Ex 4: Daily Maths"
      ]
    },
    {
      "cell_type": "code",
      "execution_count": 5,
      "metadata": {
        "id": "G9PbO6qPoUfn",
        "outputId": "6c03be38-d2f2-4e27-881d-69efe0edd0b6",
        "colab": {
          "base_uri": "https://localhost:8080/"
        }
      },
      "outputs": [
        {
          "output_type": "error",
          "ename": "SyntaxError",
          "evalue": "invalid syntax (<ipython-input-5-47eb6636605c>, line 9)",
          "traceback": [
            "\u001b[0;36m  File \u001b[0;32m\"<ipython-input-5-47eb6636605c>\"\u001b[0;36m, line \u001b[0;32m9\u001b[0m\n\u001b[0;31m    Enter quantity of apples: 3\u001b[0m\n\u001b[0m          ^\u001b[0m\n\u001b[0;31mSyntaxError\u001b[0m\u001b[0;31m:\u001b[0m invalid syntax\n"
          ]
        }
      ],
      "source": [
        "# Ask the user to enter temperature in Fahrenheit\n",
        "fahrenheit = float(input(\"Enter temperature in Fahrenheit: \"))\n",
        "\n",
        "# Convert to Celsius using the formula\n",
        "celsius = (fahrenheit - 32) * 5/9\n",
        "\n",
        "# Display the result\n",
        "print(f\"{fahrenheit}°F is equal to {celsius:.2f}°C\")\n",
        "Enter quantity of apples: 3\n",
        "Enter price per apple: 1.5\n",
        "Enter quantity of oranges: 2\n",
        "Enter price per orange: 2\n",
        "Enter quantity of mangoes: 5\n",
        "Enter price per mango: 1.2\n",
        "Total cost for apples: $4.50\n",
        "Total cost for oranges: $4.00\n",
        "Total cost for mangoes: $6.00\n",
        "Grand total cost: $14.50"
      ]
    },
    {
      "cell_type": "markdown",
      "metadata": {
        "id": "lItKon9qqEUn"
      },
      "source": [
        "You are working in a retail shop. Write a program that computes the total cost for a customer that bought 3 differnt types of fruits : apple, orange, mango. Ask the user to enter the quantity and price for each type."
      ]
    },
    {
      "cell_type": "code",
      "execution_count": null,
      "metadata": {
        "id": "mIQFjH6wqDma"
      },
      "outputs": [],
      "source": [
        "# Get quantity and price for apples\n",
        "apple_qty = int(input(\"Enter quantity of apples: \"))\n",
        "apple_price = float(input(\"Enter price per apple: \"))\n",
        "\n",
        "# Get quantity and price for oranges\n",
        "orange_qty = int(input(\"Enter quantity of oranges: \"))\n",
        "orange_price = float(input(\"Enter price per orange: \"))\n",
        "\n",
        "# Get quantity and price for mangoes\n",
        "mango_qty = int(input(\"Enter quantity of mangoes: \"))\n",
        "mango_price = float(input(\"Enter price per mango: \"))\n",
        "\n",
        "# Calculate total cost for each fruit\n",
        "total_apple = apple_qty * apple_price\n",
        "total_orange = orange_qty * orange_price\n",
        "total_mango = mango_qty * mango_price\n",
        "\n",
        "# Calculate grand total cost\n",
        "total_cost = total_apple + total_orange + total_mango\n",
        "\n",
        "# Display the total cost\n",
        "print(f\"Total cost for apples: ${total_apple:.2f}\")\n",
        "print(f\"Total cost for oranges: ${total_orange:.2f}\")\n",
        "print(f\"Total cost for mangoes: ${total_mango:.2f}\")\n",
        "print(f\"Grand total cost: ${total_cost:.2f}\")"
      ]
    },
    {
      "cell_type": "markdown",
      "metadata": {
        "id": "31fXlmEQqgvW"
      },
      "source": [
        "# Ex 5 : Greeting"
      ]
    },
    {
      "cell_type": "markdown",
      "metadata": {
        "id": "zvnmj8MGrJIw"
      },
      "source": [
        "Write a program to greet the customer who provides the user name. Your program should ask the name of the customer and print \"Hello + customer name\""
      ]
    },
    {
      "cell_type": "code",
      "execution_count": null,
      "metadata": {
        "id": "Z6ynxZMarIXh"
      },
      "outputs": [],
      "source": [
        "# Ask the user to enter their name\n",
        "customer_name = input(\"Please enter your name: \")\n",
        "\n",
        "# Print the greeting message\n",
        "print(\"Hello \" + customer_name)\n",
        "Please enter your name: Yadanar\n",
        "Hello Yadanar"
      ]
    },
    {
      "cell_type": "markdown",
      "metadata": {
        "id": "ko8rZf8s2suc"
      },
      "source": [
        "# Ex 6: Random Number\n",
        "Write a program that generates a random number, x, between 1 and 50, a random number y between 2 and 5, and computes x^y."
      ]
    },
    {
      "cell_type": "code",
      "execution_count": null,
      "metadata": {
        "id": "IT1LDI742sud"
      },
      "outputs": [],
      "source": [
        "from random import randint\n",
        "x = randint(1,10)\n",
        "print('A random number between 1 and 10: ', x)\n",
        "Random number x: 12\n",
        "Random number y: 3\n",
        "12 raised to the power 3 is 1728"
      ]
    },
    {
      "cell_type": "markdown",
      "metadata": {
        "id": "77OL6dQt2sud"
      },
      "source": [
        "# Ex 7: Greet many times.\n",
        "Write a program that generates a random number between 1 and 10 and prints your name that many times."
      ]
    },
    {
      "cell_type": "code",
      "execution_count": null,
      "metadata": {
        "id": "d1Ytc7ak2sue"
      },
      "outputs": [],
      "source": [
        "from random import randint\n",
        "\n",
        "x = randint(1, 10)  # 1 ကနေ 10 အတွင်း random နံပါတ်ထုတ်တယ်\n",
        "name = input(\"Enter your name: \").title()\n",
        "print()\n",
        "\n",
        "for i in range(x):\n",
        "    print(f\"Hello {name}\")\n",
        "    print(\"---------------------\")\n",
        "    Enter your name: yadanar\n",
        "\n",
        "Hello Yadanar\n",
        "---------------------\n",
        "Hello Yadanar\n",
        "---------------------\n",
        "Hello Yadanar\n",
        "---------------------\n",
        "Hello Yadanar\n",
        "---------------------\n",
        "Hello Yadanar\n",
        "---------------------\n",
        "Hello Yadanar\n",
        "---------------------\n",
        "Hello Yadanar\n",
        "---------------------\n"
      ]
    },
    {
      "cell_type": "markdown",
      "metadata": {
        "id": "IrWd0aP_2sue"
      },
      "source": [
        "# Ex 8: Computing.\n",
        "Write a program that asks the user to enter two numbers, x and y, and computes |x-y|/(x+y)."
      ]
    },
    {
      "cell_type": "code",
      "execution_count": null,
      "metadata": {
        "id": "R_lYfxj12sue"
      },
      "outputs": [],
      "source": [
        "# Ask the user to input two numbers\n",
        "x = float(input(\"Enter the first number (x): \"))\n",
        "y = float(input(\"Enter the second number (y): \"))\n",
        "\n",
        "# Compute the absolute difference divided by the sum\n",
        "result = abs(x - y) / (x + y)\n",
        "\n",
        "# Display the result\n",
        "print(f\"The result of |{x} - {y}| / ({x} + {y}) is {result:.4f}\")\n",
        "Enter the first number (x): 10\n",
        "Enter the second number (y): 4\n",
        "The result of |10.0 - 4.0| / (10.0 + 4.0) is 0.4286"
      ]
    },
    {
      "cell_type": "markdown",
      "metadata": {
        "id": "1pRiKZLv2suf"
      },
      "source": [
        "# Ex 9: Computing\n",
        "\n",
        "Write a program that asks the user for a number of seconds and prints out how many minutes and seconds that is. For instance, 200 seconds is 3 minutes and 20 seconds."
      ]
    },
    {
      "cell_type": "code",
      "execution_count": null,
      "metadata": {
        "id": "v9aZNhS-2suf"
      },
      "outputs": [],
      "source": [
        "# Ask the user to enter the total number of seconds\n",
        "total_seconds = int(input(\"Enter the number of seconds: \"))\n",
        "\n",
        "# Calculate minutes and remaining seconds\n",
        "minutes = total_seconds // 60\n",
        "seconds = total_seconds % 60\n",
        "\n",
        "# Display the result\n",
        "print(f\"{total_seconds} seconds is {minutes} minutes and {seconds} seconds.\")\n",
        "Enter the number of seconds: 200\n",
        "200 seconds is 3 minutes and 20 seconds."
      ]
    },
    {
      "cell_type": "markdown",
      "metadata": {
        "id": "sONFju8Y2suf"
      },
      "source": [
        "# Ex 10: Using Math Module\n",
        "\n",
        "Write a program that asks the user for a number and then prints out the sine, cosine, and tangent of that number."
      ]
    },
    {
      "cell_type": "code",
      "execution_count": null,
      "metadata": {
        "id": "_1mh8UUg2suf"
      },
      "outputs": [],
      "source": [
        "import math\n",
        "\n",
        "num = float(input(\"Enter a number (in radians): \"))\n",
        "\n",
        "sine_value = math.sin(num)\n",
        "cosine_value = math.cos(num)\n",
        "tangent_value = math.tan(num)\n",
        "\n",
        "print(f\"Sine: {sine_value:.4f}\")\n",
        "print(f\"Cosine: {cosine_value:.4f}\")\n",
        "print(f\"Tangent: {tangent_value:.4f}\")\n",
        "Enter a number (in radians): 1.57\n",
        "sin(1.57) = 1.0000\n",
        "cos(1.57) = 0.0000\n",
        "tan(1.57) = 1255.9746\n"
      ]
    }
  ],
  "metadata": {
    "colab": {
      "name": "Ex1_Python.ipynb",
      "provenance": []
    },
    "kernelspec": {
      "display_name": "Python 3",
      "language": "python",
      "name": "python3"
    },
    "language_info": {
      "codemirror_mode": {
        "name": "ipython",
        "version": 3
      },
      "file_extension": ".py",
      "mimetype": "text/x-python",
      "name": "python",
      "nbconvert_exporter": "python",
      "pygments_lexer": "ipython3",
      "version": "3.12.1"
    }
  },
  "nbformat": 4,
  "nbformat_minor": 0
}