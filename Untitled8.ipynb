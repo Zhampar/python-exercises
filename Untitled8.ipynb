{
  "nbformat": 4,
  "nbformat_minor": 0,
  "metadata": {
    "colab": {
      "provenance": [],
      "include_colab_link": true
    },
    "kernelspec": {
      "name": "python3",
      "display_name": "Python 3"
    },
    "language_info": {
      "name": "python"
    }
  },
  "cells": [
    {
      "cell_type": "markdown",
      "metadata": {
        "id": "view-in-github",
        "colab_type": "text"
      },
      "source": [
        "<a href=\"https://colab.research.google.com/github/Zhampar/python-exercises/blob/main/Untitled8.ipynb\" target=\"_parent\"><img src=\"https://colab.research.google.com/assets/colab-badge.svg\" alt=\"Open In Colab\"/></a>"
      ]
    },
    {
      "cell_type": "code",
      "execution_count": 1,
      "metadata": {
        "colab": {
          "base_uri": "https://localhost:8080/"
        },
        "id": "ei779zV8lfko",
        "outputId": "6e3a97cf-c6ab-4a35-9387-d7b8e476655a"
      },
      "outputs": [
        {
          "output_type": "stream",
          "name": "stdout",
          "text": [
            "25\n"
          ]
        }
      ],
      "source": [
        "from datetime import datetime\n",
        "\n",
        "# Get the current year\n",
        "current_year = datetime.now().year\n",
        "\n",
        "# Lambda function to calculate age\n",
        "calculate_age = lambda year: current_year - year\n",
        "\n",
        "# Example usage\n",
        "print(calculate_age(2000))  # Output: 24 (as of 2024)\n"
      ]
    },
    {
      "cell_type": "code",
      "source": [
        "# Lambda function to calculate price with 10% added\n",
        "calculate_price = lambda cost: cost + cost * 0.10\n",
        "\n",
        "# Example usage\n",
        "print(calculate_price(56))  # Output: 61.6\n"
      ],
      "metadata": {
        "colab": {
          "base_uri": "https://localhost:8080/"
        },
        "id": "Wz8BLneXmtX5",
        "outputId": "78167f98-b22d-4b0c-b51d-e2ef7a2576a0"
      },
      "execution_count": 2,
      "outputs": [
        {
          "output_type": "stream",
          "name": "stdout",
          "text": [
            "61.6\n"
          ]
        }
      ]
    },
    {
      "cell_type": "code",
      "source": [
        "names = ['Richard', 'Karam', 'Karpo', 'Sonam', 'Ugyen']\n",
        "\n",
        "# Lambda function to create email address\n",
        "create_email = lambda name: name.lower() + '@gmail.com'\n",
        "\n",
        "# Apply the lambda function to each name\n",
        "emails = [*map(create_email, names)]\n",
        "\n",
        "# Output the result\n",
        "print(emails)\n"
      ],
      "metadata": {
        "colab": {
          "base_uri": "https://localhost:8080/"
        },
        "id": "OzOdWVdTnAeX",
        "outputId": "a8e6ce9f-0354-4c48-e882-dd1a9041fb4e"
      },
      "execution_count": 3,
      "outputs": [
        {
          "output_type": "stream",
          "name": "stdout",
          "text": [
            "['richard@gmail.com', 'karam@gmail.com', 'karpo@gmail.com', 'sonam@gmail.com', 'ugyen@gmail.com']\n"
          ]
        }
      ]
    },
    {
      "cell_type": "code",
      "source": [
        "old_list = [2, 4, 6, 7, 9]\n",
        "\n",
        "# Method 1: List comprehension\n",
        "new_list1 = [item**2 for item in old_list]\n",
        "\n",
        "# Method 2: For loop\n",
        "new_list2 = []\n",
        "for item in old_list:\n",
        "    new_list2.append(item**2)\n",
        "\n",
        "print(new_list1, new_list2)\n"
      ],
      "metadata": {
        "colab": {
          "base_uri": "https://localhost:8080/"
        },
        "id": "JSEmNOYFnDF2",
        "outputId": "d1184603-bb68-4d55-a6ff-7954cc5dd770"
      },
      "execution_count": 4,
      "outputs": [
        {
          "output_type": "stream",
          "name": "stdout",
          "text": [
            "[4, 16, 36, 49, 81] [4, 16, 36, 49, 81]\n"
          ]
        }
      ]
    }
  ]
}